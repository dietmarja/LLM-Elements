{
  "nbformat": 4,
  "nbformat_minor": 0,
  "metadata": {
    "colab": {
      "provenance": [],
      "authorship_tag": "ABX9TyOVSMQ3ErnwAhg9nWQ2N6rc",
      "include_colab_link": true
    },
    "kernelspec": {
      "name": "python3",
      "display_name": "Python 3"
    },
    "language_info": {
      "name": "python"
    }
  },
  "cells": [
    {
      "cell_type": "markdown",
      "metadata": {
        "id": "view-in-github",
        "colab_type": "text"
      },
      "source": [
        "<a href=\"https://colab.research.google.com/github/dietmarja/LLM-Elements/blob/main/vector_db/pineconce_01.ipynb\" target=\"_parent\"><img src=\"https://colab.research.google.com/assets/colab-badge.svg\" alt=\"Open In Colab\"/></a>"
      ]
    },
    {
      "cell_type": "markdown",
      "source": [
        "# Using Pincone for Similary Search"
      ],
      "metadata": {
        "id": "Pjopy_UY4ekm"
      }
    },
    {
      "cell_type": "code",
      "source": [
        "!pip install pinecone-client matplotlib\n",
        "import pinecone\n",
        "import pandas as pd\n",
        "from pinecone import Pinecone, ServerlessSpec\n",
        "import matplotlib.pyplot as plt\n",
        "from mpl_toolkits.mplot3d import Axes3D\n",
        "import time\n"
      ],
      "metadata": {
        "id": "ceOViquo4hjr"
      },
      "execution_count": null,
      "outputs": []
    },
    {
      "cell_type": "code",
      "source": [
        "# Initialize Pinecone\n",
        "pc = Pinecone(api_key=\"6288ed25-a37a-4c7e-b466-fe1862dd079d\")\n",
        "\n",
        "index_name = \"docs-quickstart-index\"\n"
      ],
      "metadata": {
        "id": "Zpq7h5QJ4ob3"
      },
      "execution_count": 163,
      "outputs": []
    },
    {
      "cell_type": "code",
      "source": [
        "# Check if the index exists and delete it if it does\n",
        "if index_name in pc.list_indexes().names():\n",
        "    pc.delete_index(index_name)\n",
        "    print(\"Existing index deleted\")\n",
        "\n"
      ],
      "metadata": {
        "id": "omFcjcVV4tzK"
      },
      "execution_count": null,
      "outputs": []
    },
    {
      "cell_type": "code",
      "source": [
        "# Create the index\n",
        "pc.create_index(\n",
        "    name=index_name,\n",
        "    dimension=3,\n",
        "    metric=\"euclidean\",  # Available metrics: \"euclidean\"/\"manhattan\"/\"dotproduct\"/\"cosine\"\n",
        "    spec=ServerlessSpec(\n",
        "        cloud='aws',\n",
        "        region='us-east-1'\n",
        "    )\n",
        ")\n",
        "\n",
        "print(\"Index created successfully\")"
      ],
      "metadata": {
        "id": "wgmnGpgR5c6h"
      },
      "execution_count": null,
      "outputs": []
    },
    {
      "cell_type": "code",
      "source": [
        "# Connect to the index\n",
        "index = pc.Index(index_name)\n",
        "print(\"Connected to the index\")"
      ],
      "metadata": {
        "colab": {
          "base_uri": "https://localhost:8080/"
        },
        "id": "OUaSP2L_4ytQ",
        "outputId": "aef76772-5545-42c2-e3db-87107e9f4867"
      },
      "execution_count": 166,
      "outputs": [
        {
          "output_type": "stream",
          "name": "stdout",
          "text": [
            "Connected to the index\n"
          ]
        }
      ]
    },
    {
      "cell_type": "code",
      "source": [
        "# Create a DataFrame with vectors\n",
        "df = pd.DataFrame(\n",
        "    data={\n",
        "        \"id\": [\"v1\", \"v2\", \"v3\", \"v4\", \"v5\", \"v6\", \"v7\", \"v8\", \"v9\", \"v10\",\"v11\",\"v12\", \"v13\", \"v14\",\"v15\"],\n",
        "        \"vector\": [\n",
        "            [1.2, 2.3, 3.4],\n",
        "            [1.15, 2.35, 3.2],\n",
        "            [1.0, 2.0, 3.0],\n",
        "            [2.0, 1.0, 1.0],\n",
        "            [3.0, 2.0, 2.8],\n",
        "            [3.2, 0.4, 0.9],\n",
        "            [0.5, 0.5, 0.5],\n",
        "            [2.5, 1.5, 1.5],\n",
        "            [3.5, 2.5, 1.1],\n",
        "            [2.0, 3.0, 1.6],\n",
        "            [1.5, 2.4, 1.2],\n",
        "            [0.1, 0.7, 3.4],\n",
        "            [3.4, 1.3, 2.6],\n",
        "            [2.7, 3.2, 0.1],\n",
        "            [1.6, 3.4, 2.2]\n",
        "        ]\n",
        "    }\n",
        ")\n",
        "\n",
        "print(\"DataFrame created\")"
      ],
      "metadata": {
        "id": "Nzy3NkGd43U4"
      },
      "execution_count": null,
      "outputs": []
    },
    {
      "cell_type": "code",
      "source": [
        "# Verify vectors_to_upsert format\n",
        "vectors_to_upsert = [(row.id, row.vector) for _, row in df.iterrows()]\n",
        "for vector in vectors_to_upsert:\n",
        "    assert isinstance(vector, tuple) and len(vector) == 2, \"Each entry in vectors_to_upsert must be a tuple (id, vector)\"\n",
        "    assert isinstance(vector[0], str), \"The first element of each tuple must be a string id\"\n",
        "    assert isinstance(vector[1], list) and len(vector[1]) == 3, \"The second element of each tuple must be a list with three dimensions\"\n",
        "\n",
        "print(f\"Vectors to upsert: {vectors_to_upsert}\")\n"
      ],
      "metadata": {
        "id": "ofp9gGJU48A7"
      },
      "execution_count": null,
      "outputs": []
    },
    {
      "cell_type": "code",
      "source": [
        "# Upsert vectors into the index\n",
        "response = index.upsert(vectors=vectors_to_upsert)\n",
        "print(\"Upsert response:\", response)"
      ],
      "metadata": {
        "id": "Tx4-EBOV4_50"
      },
      "execution_count": null,
      "outputs": []
    },
    {
      "cell_type": "code",
      "source": [
        "# Wait for a few seconds to ensure the upsert is processed\n",
        "time.sleep(10)"
      ],
      "metadata": {
        "id": "YnLvc_Ml5EAM"
      },
      "execution_count": 170,
      "outputs": []
    },
    {
      "cell_type": "code",
      "source": [
        "# Describe index stats\n",
        "index_stats = index.describe_index_stats()\n",
        "print(\"Index stats after upsert:\", index_stats)"
      ],
      "metadata": {
        "id": "rQ5hEPpk5Hfh"
      },
      "execution_count": null,
      "outputs": []
    },
    {
      "cell_type": "code",
      "source": [
        "# Ensure vectors were upserted\n",
        "assert index_stats['total_vector_count'] > 0, \"No vectors were upserted into the index\""
      ],
      "metadata": {
        "id": "MSS2HnFo354q"
      },
      "execution_count": 172,
      "outputs": []
    },
    {
      "cell_type": "code",
      "source": [
        "# Perform a query\n",
        "query_vector = [1.1, 2.2, 3.3]\n",
        "similarity_threshold = 100.01  # Set similarity threshold here\n",
        "print(\"Query Vector:\", query_vector)\n",
        "query_result = index.query(\n",
        "    vector=query_vector,\n",
        "    top_k=3,\n",
        "    include_values=True\n",
        ")\n",
        "\n",
        "print(\"Query Result:\")\n",
        "for match in query_result['matches']:\n",
        "    print(f\"ID: {match['id']}, Vector: {match['values']}\")\n",
        "    if match['values'] in [result['values'] for result in query_result['matches']]:\n",
        "        print(f\"ID: {match['id']}, Vector: {match['values']} (Similar)\")\n",
        "    else:\n",
        "        print(f\"ID: {match['id']}, Vector: {match['values']}\")"
      ],
      "metadata": {
        "id": "5G6d67dW6YaN"
      },
      "execution_count": null,
      "outputs": []
    },
    {
      "cell_type": "code",
      "source": [
        "# Plotting the results\n",
        "fig = plt.figure(figsize=(16, 8))\n",
        "\n",
        "# Original vectors only (ax1)\n",
        "ax1 = fig.add_subplot(121, projection='3d')\n",
        "original_vectors = pd.DataFrame(df['vector'].tolist(), columns=['x', 'y', 'z'])\n",
        "ax1.scatter(original_vectors['x'], original_vectors['y'], original_vectors['z'], label='Vectors')\n",
        "ax1.set_title('Original Vectors')\n",
        "ax1.set_xlabel('Dimension 1')\n",
        "ax1.set_ylabel('Dimension 2')\n",
        "ax1.set_zlabel('Dimension 3')\n",
        "ax1.legend()\n",
        "\n",
        "# Vectors with query and similar vectors (ax2)\n",
        "ax2 = fig.add_subplot(122, projection='3d')\n",
        "ax2.scatter(original_vectors['x'], original_vectors['y'], original_vectors['z'], label='Vectors')\n",
        "ax2.scatter(query_vector[0], query_vector[1], query_vector[2], color='red', label='Query Vector')\n",
        "\n",
        "# Collect similar vectors\n",
        "similar_vectors = []\n",
        "for match in query_result['matches']:\n",
        "    vector = match['values']\n",
        "    if vector == query_vector:\n",
        "        ax2.scatter(vector[0], vector[1], vector[2], color='red', marker='*', label='Query Vector')\n",
        "    elif all(abs(query_vector[i] - vector[i]) < similarity_threshold for i in range(3)) and vector != query_vector:\n",
        "        similar_vectors.append(vector)\n",
        "        print(\"Similar vector found:\", vector)  # Print the similar vector\n",
        "\n",
        "# Plotting similar vectors\n",
        "if similar_vectors:\n",
        "    print(\"Similar Vectors found. Plotting...\")\n",
        "    similar_vectors_df = pd.DataFrame(similar_vectors, columns=['x', 'y', 'z'])\n",
        "    ax2.scatter(similar_vectors_df['x'], similar_vectors_df['y'], similar_vectors_df['z'], color='limegreen', marker='o', label='Similar Vector', zorder=3)\n",
        "\n",
        "ax2.set_title('Vectors with Query and Similar Vectors')\n",
        "ax2.set_xlabel('Dimension 1')\n",
        "ax2.set_ylabel('Dimension 2')\n",
        "ax2.set_zlabel('Dimension 3')\n",
        "ax2.legend()\n",
        "\n",
        "# Show the plot\n",
        "plt.tight_layout()\n",
        "plt.show()"
      ],
      "metadata": {
        "id": "uUk_EDWyI3c7"
      },
      "execution_count": null,
      "outputs": []
    }
  ]
}