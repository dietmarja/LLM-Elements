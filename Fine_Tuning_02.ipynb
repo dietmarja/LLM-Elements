{
  "nbformat": 4,
  "nbformat_minor": 0,
  "metadata": {
    "colab": {
      "provenance": [],
      "authorship_tag": "ABX9TyN5pb6yPJO1UqPXtlWtpfMy",
      "include_colab_link": true
    },
    "kernelspec": {
      "name": "python3",
      "display_name": "Python 3"
    },
    "language_info": {
      "name": "python"
    }
  },
  "cells": [
    {
      "cell_type": "markdown",
      "metadata": {
        "id": "view-in-github",
        "colab_type": "text"
      },
      "source": [
        "<a href=\"https://colab.research.google.com/github/dietmarja/LLM-Elements/blob/main/Fine_Tuning_02.ipynb\" target=\"_parent\"><img src=\"https://colab.research.google.com/assets/colab-badge.svg\" alt=\"Open In Colab\"/></a>"
      ]
    },
    {
      "cell_type": "markdown",
      "source": [
        "## Fine Tuning Including Validation"
      ],
      "metadata": {
        "id": "Talb1zgLGaRg"
      }
    },
    {
      "cell_type": "code",
      "execution_count": 14,
      "metadata": {
        "id": "AljZMTyFF8_A"
      },
      "outputs": [],
      "source": [
        "import torch\n",
        "from torch import nn, optim\n",
        "from transformers import GPT2Tokenizer, GPT2LMHeadModel"
      ]
    },
    {
      "cell_type": "code",
      "source": [
        "# Initialize the model and tokenizer\n",
        "tokenizer = GPT2Tokenizer.from_pretrained(\"gpt2\")\n",
        "model = GPT2LMHeadModel.from_pretrained(\"gpt2\")"
      ],
      "metadata": {
        "id": "WspWdV6rGeQj"
      },
      "execution_count": 15,
      "outputs": []
    },
    {
      "cell_type": "code",
      "source": [
        "# Add a padding token if it doesn't exist\n",
        "if tokenizer.pad_token is None:\n",
        "    tokenizer.add_special_tokens({\"pad_token\": tokenizer.eos_token})\n",
        "    model.resize_token_embeddings(len(tokenizer))"
      ],
      "metadata": {
        "id": "1tGqmSHpHwer"
      },
      "execution_count": 16,
      "outputs": []
    },
    {
      "cell_type": "code",
      "source": [
        "# Prepare the data (example using a dummy dataset)\n",
        "train_texts = [\"Example sentence one.\", \"Example sentence two.\"]\n",
        "validation_texts = [\"Validation sentence one.\", \"Validation sentence two.\"]\n",
        "train_inputs = tokenizer(train_texts, return_tensors=\"pt\", padding=True, truncation=True, max_length=128)\n",
        "validation_inputs = tokenizer(validation_texts, return_tensors=\"pt\", padding=True, truncation=True, max_length=128)\n"
      ],
      "metadata": {
        "id": "jXbbG-oOH0yd"
      },
      "execution_count": 17,
      "outputs": []
    },
    {
      "cell_type": "code",
      "source": [
        "# Define the optimizer and loss function\n",
        "optimizer = optim.AdamW(model.parameters(), lr=5e-5)\n",
        "loss_fn = nn.CrossEntropyLoss()"
      ],
      "metadata": {
        "id": "HCqjFU5OH9zS"
      },
      "execution_count": 18,
      "outputs": []
    },
    {
      "cell_type": "code",
      "source": [
        "# Training loop\n",
        "epochs = 3\n",
        "for epoch in range(epochs):\n",
        "    model.train()\n",
        "    for i in range(len(train_inputs[\"input_ids\"])):\n",
        "        input_ids = train_inputs[\"input_ids\"][i].unsqueeze(0)\n",
        "        attention_mask = train_inputs[\"attention_mask\"][i].unsqueeze(0)\n",
        "\n",
        "        outputs = model(input_ids, attention_mask=attention_mask, labels=input_ids)\n",
        "        loss = outputs.loss\n",
        "\n",
        "        optimizer.zero_grad()\n",
        "        loss.backward()\n",
        "        optimizer.step()\n",
        "\n",
        "        if i % 10 == 0:  # Print loss every 10 batches\n",
        "            print(f\"Epoch: {epoch}, Batch: {i}, Loss: {loss.item()}\")\n",
        "\n"
      ],
      "metadata": {
        "colab": {
          "base_uri": "https://localhost:8080/"
        },
        "id": "AZ8GexDoIDu-",
        "outputId": "203d2af3-5598-4aef-ae6a-38d3b23d8807"
      },
      "execution_count": 19,
      "outputs": [
        {
          "output_type": "stream",
          "name": "stdout",
          "text": [
            "Epoch: 0, Batch: 0, Loss: 7.26689338684082\n",
            "Epoch: 1, Batch: 0, Loss: 3.3851006031036377\n",
            "Epoch: 2, Batch: 0, Loss: 1.4126462936401367\n"
          ]
        }
      ]
    },
    {
      "cell_type": "code",
      "source": [
        "# Validation loop\n",
        "model.eval()\n",
        "val_loss = 0\n",
        "with torch.no_grad():\n",
        "    for i in range(len(validation_inputs[\"input_ids\"])):\n",
        "        input_ids = validation_inputs[\"input_ids\"][i].unsqueeze(0)\n",
        "        attention_mask = validation_inputs[\"attention_mask\"][i].unsqueeze(0)\n",
        "        outputs = model(input_ids, attention_mask=attention_mask, labels=input_ids)\n",
        "        val_loss += outputs.loss.item()\n",
        "\n",
        "avg_val_loss = val_loss / len(validation_inputs[\"input_ids\"])\n",
        "print(f\"Epoch: {epoch}, Validation Loss: {avg_val_loss}\")"
      ],
      "metadata": {
        "colab": {
          "base_uri": "https://localhost:8080/"
        },
        "id": "bYXtdU1q3B7n",
        "outputId": "e2eed353-b08b-480f-fd05-45b9e3cc1874"
      },
      "execution_count": 20,
      "outputs": [
        {
          "output_type": "stream",
          "name": "stdout",
          "text": [
            "Epoch: 2, Validation Loss: 5.292510747909546\n"
          ]
        }
      ]
    },
    {
      "cell_type": "code",
      "source": [
        "# Generate sample output\n",
        "model.eval()\n",
        "with torch.no_grad():\n",
        "    sample_output = model.generate(tokenizer.encode(\"Test sentence\", return_tensors=\"pt\"), max_length=50)\n",
        "    print(f\"Sample output: {tokenizer.decode(sample_output[0], skip_special_tokens=True)}\")\n",
        "\n",
        "print(\"Training completed.\")"
      ],
      "metadata": {
        "colab": {
          "base_uri": "https://localhost:8080/"
        },
        "id": "fyqBMIRV5yx9",
        "outputId": "2d377252-5931-4695-b163-8a94ef073aca"
      },
      "execution_count": 21,
      "outputs": [
        {
          "output_type": "stream",
          "name": "stderr",
          "text": [
            "The attention mask and the pad token id were not set. As a consequence, you may observe unexpected behavior. Please pass your input's `attention_mask` to obtain reliable results.\n",
            "Setting `pad_token_id` to `eos_token_id`:50256 for open-end generation.\n"
          ]
        },
        {
          "output_type": "stream",
          "name": "stdout",
          "text": [
            "Sample output: Test sentence one.\n",
            "\n",
            "The first sentence is a bit of a stretch. The second sentence is a bit more complicated. The third sentence is a bit more complicated.\n",
            "\n",
            "The third sentence is a bit more complicated.\n",
            "\n",
            "The fourth sentence\n",
            "Training completed.\n"
          ]
        }
      ]
    }
  ]
}