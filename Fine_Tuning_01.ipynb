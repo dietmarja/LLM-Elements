{
  "nbformat": 4,
  "nbformat_minor": 0,
  "metadata": {
    "colab": {
      "provenance": [],
      "authorship_tag": "ABX9TyNY4ffyiRnNaRR9tMlXW+Ku",
      "include_colab_link": true
    },
    "kernelspec": {
      "name": "python3",
      "display_name": "Python 3"
    },
    "language_info": {
      "name": "python"
    }
  },
  "cells": [
    {
      "cell_type": "markdown",
      "metadata": {
        "id": "view-in-github",
        "colab_type": "text"
      },
      "source": [
        "<a href=\"https://colab.research.google.com/github/dietmarja/LLM-Elements/blob/main/Fine_Tuning_01.ipynb\" target=\"_parent\"><img src=\"https://colab.research.google.com/assets/colab-badge.svg\" alt=\"Open In Colab\"/></a>"
      ]
    },
    {
      "cell_type": "markdown",
      "source": [
        "## Fine Tuning"
      ],
      "metadata": {
        "id": "Talb1zgLGaRg"
      }
    },
    {
      "cell_type": "code",
      "execution_count": 9,
      "metadata": {
        "id": "AljZMTyFF8_A"
      },
      "outputs": [],
      "source": [
        "import torch\n",
        "from torch import nn, optim\n",
        "from transformers import GPT2Tokenizer, GPT2LMHeadModel"
      ]
    },
    {
      "cell_type": "code",
      "source": [
        "# Initialize the model and tokenizer\n",
        "tokenizer = GPT2Tokenizer.from_pretrained(\"gpt2\")\n",
        "model = GPT2LMHeadModel.from_pretrained(\"gpt2\")"
      ],
      "metadata": {
        "id": "WspWdV6rGeQj"
      },
      "execution_count": 10,
      "outputs": []
    },
    {
      "cell_type": "code",
      "source": [
        "# Add a padding token if it doesn't exist\n",
        "if tokenizer.pad_token is None:\n",
        "    tokenizer.add_special_tokens({\"pad_token\": tokenizer.eos_token})\n",
        "    model.resize_token_embeddings(len(tokenizer))"
      ],
      "metadata": {
        "id": "1tGqmSHpHwer"
      },
      "execution_count": 11,
      "outputs": []
    },
    {
      "cell_type": "code",
      "source": [
        "# Prepare the data (we use a simply dummy dataset)\n",
        "texts = [\"Example sentence one.\", \"Example sentence two.\"]\n",
        "inputs = tokenizer(\n",
        "    texts, return_tensors=\"pt\", padding=True, truncation=True, max_length=128\n",
        ")\n"
      ],
      "metadata": {
        "id": "jXbbG-oOH0yd"
      },
      "execution_count": 12,
      "outputs": []
    },
    {
      "cell_type": "code",
      "source": [
        "# Define the optimizer and loss function\n",
        "optimizer = optim.AdamW(model.parameters(), lr=5e-5)\n",
        "loss_fn = nn.CrossEntropyLoss()\n"
      ],
      "metadata": {
        "id": "HCqjFU5OH9zS"
      },
      "execution_count": 13,
      "outputs": []
    },
    {
      "cell_type": "code",
      "source": [
        "# Training loop\n",
        "epochs = 3\n",
        "for epoch in range(epochs):\n",
        "    model.train()\n",
        "    for i in range(len(inputs[\"input_ids\"])):\n",
        "        input_ids = inputs[\"input_ids\"][i].unsqueeze(0)\n",
        "        attention_mask = inputs[\"attention_mask\"][i].unsqueeze(0)\n",
        "\n",
        "        outputs = model(input_ids, attention_mask=attention_mask, labels=input_ids)\n",
        "        loss = outputs.loss\n",
        "\n",
        "        optimizer.zero_grad()\n",
        "        loss.backward()\n",
        "        optimizer.step()\n",
        "\n",
        "        # Print loss for every batch (we have here 1 sentence per batch)\n",
        "        print(f\"Epoch: {epoch}, Batch: {i}, Loss: {loss.item()}\")\n"
      ],
      "metadata": {
        "colab": {
          "base_uri": "https://localhost:8080/"
        },
        "id": "a1rwXaSdutw3",
        "outputId": "2880585c-537b-4c4b-aee1-ed2145a7a3e0"
      },
      "execution_count": 17,
      "outputs": [
        {
          "output_type": "stream",
          "name": "stdout",
          "text": [
            "Epoch: 0, Batch: 0, Loss: 0.19336621463298798\n",
            "Epoch: 0, Batch: 1, Loss: 0.7131404280662537\n",
            "Epoch: 1, Batch: 0, Loss: 0.23843832314014435\n",
            "Epoch: 1, Batch: 1, Loss: 3.7839481830596924\n",
            "Epoch: 2, Batch: 0, Loss: 0.13806819915771484\n",
            "Epoch: 2, Batch: 1, Loss: 0.3653947412967682\n"
          ]
        }
      ]
    }
  ]
}