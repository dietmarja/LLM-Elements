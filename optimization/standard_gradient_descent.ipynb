{
  "nbformat": 4,
  "nbformat_minor": 0,
  "metadata": {
    "colab": {
      "provenance": [],
      "authorship_tag": "ABX9TyP/2yisy5cEWC21JDn1VvIK",
      "include_colab_link": true
    },
    "kernelspec": {
      "name": "python3",
      "display_name": "Python 3"
    },
    "language_info": {
      "name": "python"
    }
  },
  "cells": [
    {
      "cell_type": "markdown",
      "metadata": {
        "id": "view-in-github",
        "colab_type": "text"
      },
      "source": [
        "<a href=\"https://colab.research.google.com/github/dietmarja/LLM-Elements/blob/main/optimization/standard_gradient_descent.ipynb\" target=\"_parent\"><img src=\"https://colab.research.google.com/assets/colab-badge.svg\" alt=\"Open In Colab\"/></a>"
      ]
    },
    {
      "cell_type": "code",
      "execution_count": null,
      "metadata": {
        "id": "UK5VVoFfR96A"
      },
      "outputs": [],
      "source": [
        "import numpy as np\n",
        "import matplotlib.pyplot as plt\n",
        "import pandas as pd\n",
        "\n",
        "# Define the gradient function separately\n",
        "def compute_gradient(param):\n",
        "    return 2 * param\n",
        "\n",
        "# Batch Gradient Descent function\n",
        "def batch_gradient_descent(gradient_func, initial_value, learning_rate, num_iterations=50, tol=1e-06):\n",
        "    parameter = initial_value\n",
        "    param_values = [parameter]\n",
        "    for _ in range(num_iterations):\n",
        "        gradient = -learning_rate * gradient_func(parameter)\n",
        "        if np.all(np.abs(gradient) <= tol):\n",
        "            break\n",
        "        parameter += gradient\n",
        "        param_values.append(parameter)\n",
        "    return parameter, param_values\n",
        "\n",
        "# Run batch gradient descent with a start value of 17.0\n",
        "optimized_value, param_trajectory = batch_gradient_descent(\n",
        "    gradient_func=compute_gradient, initial_value=17.0, learning_rate=0.2\n",
        ")\n",
        "\n",
        "# Plot the points considered in finding the best value\n",
        "plt.figure(figsize=(10, 6))\n",
        "plt.plot(param_trajectory, 'bo-', label='Parameter values')\n",
        "plt.axhline(y=optimized_value, color='r', linestyle='--', label=f'Optimized value: {optimized_value:.2f}')\n",
        "plt.title('Batch Gradient Descent Progress')\n",
        "plt.xlabel('Iteration')\n",
        "plt.ylabel('Cost')\n",
        "plt.legend()\n",
        "plt.grid(True)\n",
        "plt.show()\n",
        "\n",
        "# Create a DataFrame to store the results\n",
        "iterations = list(range(len(param_trajectory)))\n",
        "results_df = pd.DataFrame({\n",
        "    'Iteration': iterations,\n",
        "    'Parameter Value': param_trajectory\n",
        "})\n",
        "\n",
        "# Display the DataFrame\n",
        "print(results_df)"
      ]
    }
  ]
}